{
  "cells": [
    {
      "cell_type": "markdown",
      "metadata": {
        "id": "HJiAU6XhbgnU"
      },
      "source": [
        "# ***Data Processing***"
      ]
    },
    {
      "cell_type": "markdown",
      "metadata": {
        "id": "p1e80kW0boLS"
      },
      "source": [
        "## Import Required Libs"
      ]
    },
    {
      "cell_type": "code",
      "execution_count": 1,
      "metadata": {
        "id": "hgXKVRQ1bdmL"
      },
      "outputs": [],
      "source": [
        "import pandas as pd\n",
        "from sklearn.model_selection import train_test_split\n",
        "from bs4 import BeautifulSoup\n",
        "from underthesea import word_tokenize\n",
        "import re\n",
        "from pandarallel import pandarallel\n",
        "import matplotlib.pyplot as plt\n",
        "import seaborn as sns\n",
        "import urllib\n",
        "import requests\n",
        "import random\n",
        "import cloudpickle\n",
        "from tqdm import tqdm\n",
        "from IPython.display import clear_output"
      ]
    },
    {
      "cell_type": "markdown",
      "metadata": {
        "id": "hxebMkMWb1w6"
      },
      "source": [
        "## Load Raw Data"
      ]
    },
    {
      "cell_type": "markdown",
      "metadata": {
        "id": "yIyd2Lj7b-jq"
      },
      "source": [
        "### UIT-VSFC"
      ]
    },
    {
      "cell_type": "code",
      "execution_count": 2,
      "metadata": {
        "id": "RssK9ND3lAlE"
      },
      "outputs": [],
      "source": [
        "def load_txt(file_path):\n",
        "    with open(file_path, 'r', encoding='utf-8') as inp:\n",
        "        return [line.strip() for line in inp.readlines()]\n",
        "\n",
        "def load_vsfc(folder_path):\n",
        "    sentiments = load_txt(f'{folder_path}/sentiments.txt')\n",
        "    topics = load_txt(f'{folder_path}/topics.txt')\n",
        "    sents = load_txt(f'{folder_path}/sents.txt')\n",
        "    return pd.DataFrame({\n",
        "        'sent': pd.Series(sents, dtype=str),\n",
        "        'topic': pd.Series(topics, dtype='int32'),\n",
        "        'sentiment': pd.Series(sentiments, dtype='int32')\n",
        "    })"
      ]
    },
    {
      "cell_type": "code",
      "execution_count": 3,
      "metadata": {
        "id": "YedRHYhNj4Mk"
      },
      "outputs": [],
      "source": [
        "vsfc_train_df = load_vsfc('../data/raw/uit-vsfc/train')\n",
        "vsfc_valid_df = load_vsfc('../data/raw/uit-vsfc/dev')\n",
        "vsfc_test_df = load_vsfc('../data/raw/uit-vsfc/test')"
      ]
    },
    {
      "cell_type": "code",
      "execution_count": 4,
      "metadata": {
        "colab": {
          "base_uri": "https://localhost:8080/"
        },
        "id": "9CsvAKyJmN0c",
        "outputId": "15fb998f-fa1a-4f9c-b2c8-62ad82e10137"
      },
      "outputs": [
        {
          "data": {
            "text/html": [
              "<div>\n",
              "<style scoped>\n",
              "    .dataframe tbody tr th:only-of-type {\n",
              "        vertical-align: middle;\n",
              "    }\n",
              "\n",
              "    .dataframe tbody tr th {\n",
              "        vertical-align: top;\n",
              "    }\n",
              "\n",
              "    .dataframe thead th {\n",
              "        text-align: right;\n",
              "    }\n",
              "</style>\n",
              "<table border=\"1\" class=\"dataframe\">\n",
              "  <thead>\n",
              "    <tr style=\"text-align: right;\">\n",
              "      <th></th>\n",
              "      <th>sent</th>\n",
              "      <th>topic</th>\n",
              "      <th>sentiment</th>\n",
              "    </tr>\n",
              "  </thead>\n",
              "  <tbody>\n",
              "    <tr>\n",
              "      <th>0</th>\n",
              "      <td>slide giáo trình đầy đủ .</td>\n",
              "      <td>1</td>\n",
              "      <td>2</td>\n",
              "    </tr>\n",
              "    <tr>\n",
              "      <th>1</th>\n",
              "      <td>nhiệt tình giảng dạy , gần gũi với sinh viên .</td>\n",
              "      <td>0</td>\n",
              "      <td>2</td>\n",
              "    </tr>\n",
              "    <tr>\n",
              "      <th>2</th>\n",
              "      <td>đi học đầy đủ full điểm chuyên cần .</td>\n",
              "      <td>1</td>\n",
              "      <td>0</td>\n",
              "    </tr>\n",
              "    <tr>\n",
              "      <th>3</th>\n",
              "      <td>chưa áp dụng công nghệ thông tin và các thiết ...</td>\n",
              "      <td>0</td>\n",
              "      <td>0</td>\n",
              "    </tr>\n",
              "    <tr>\n",
              "      <th>4</th>\n",
              "      <td>thầy giảng bài hay , có nhiều bài tập ví dụ ng...</td>\n",
              "      <td>0</td>\n",
              "      <td>2</td>\n",
              "    </tr>\n",
              "  </tbody>\n",
              "</table>\n",
              "</div>"
            ],
            "text/plain": [
              "                                                sent  topic  sentiment\n",
              "0                          slide giáo trình đầy đủ .      1          2\n",
              "1     nhiệt tình giảng dạy , gần gũi với sinh viên .      0          2\n",
              "2               đi học đầy đủ full điểm chuyên cần .      1          0\n",
              "3  chưa áp dụng công nghệ thông tin và các thiết ...      0          0\n",
              "4  thầy giảng bài hay , có nhiều bài tập ví dụ ng...      0          2"
            ]
          },
          "execution_count": 4,
          "metadata": {},
          "output_type": "execute_result"
        }
      ],
      "source": [
        "vsfc_train_df.head()"
      ]
    },
    {
      "cell_type": "code",
      "execution_count": 5,
      "metadata": {
        "colab": {
          "base_uri": "https://localhost:8080/"
        },
        "id": "gpigcAQOtXg-",
        "outputId": "8fc9cc8e-a97b-4990-cb18-02489abf7c43"
      },
      "outputs": [
        {
          "name": "stdout",
          "output_type": "stream",
          "text": [
            "Train length: 11426\n",
            "Valid length: 1583\n",
            "Test length: 3166\n"
          ]
        }
      ],
      "source": [
        "print(f'Train length: {len(vsfc_train_df)}')\n",
        "print(f'Valid length: {len(vsfc_valid_df)}')\n",
        "print(f'Test length: {len(vsfc_test_df)}')"
      ]
    },
    {
      "cell_type": "code",
      "execution_count": 6,
      "metadata": {
        "colab": {
          "base_uri": "https://localhost:8080/"
        },
        "id": "yq_1Ch1tc4yE",
        "outputId": "f34569ff-55a9-42b0-9c11-023318ae1630"
      },
      "outputs": [
        {
          "name": "stdout",
          "output_type": "stream",
          "text": [
            "Train:\n",
            "sent         0\n",
            "topic        0\n",
            "sentiment    0\n",
            "dtype: int64\n",
            "--------------------------------------------------\n",
            "Valid:\n",
            "sent         0\n",
            "topic        0\n",
            "sentiment    0\n",
            "dtype: int64\n",
            "--------------------------------------------------\n",
            "Test:\n",
            "sent         0\n",
            "topic        0\n",
            "sentiment    0\n",
            "dtype: int64\n"
          ]
        }
      ],
      "source": [
        "print('Train:')\n",
        "print(vsfc_train_df.isna().sum())\n",
        "print('-' * 50)\n",
        "print('Valid:')\n",
        "print(vsfc_valid_df.isna().sum())\n",
        "print('-' * 50)\n",
        "print('Test:')\n",
        "print(vsfc_test_df.isna().sum())"
      ]
    },
    {
      "cell_type": "code",
      "execution_count": 7,
      "metadata": {
        "id": "qPPnrsW-uigS"
      },
      "outputs": [],
      "source": [
        "def fix_label_vsfc(df):\n",
        "    df['sentiment'] = df['sentiment'].apply(lambda x: ('NEG', 'NEU', 'POS')[x])\n",
        "    df.drop(columns=['topic'], inplace=True)\n",
        "    return df"
      ]
    },
    {
      "cell_type": "code",
      "execution_count": 8,
      "metadata": {
        "id": "2IWVS8jPzGhw"
      },
      "outputs": [],
      "source": [
        "vsfc_train_df = fix_label_vsfc(vsfc_train_df)\n",
        "vsfc_valid_df = fix_label_vsfc(vsfc_valid_df)\n",
        "vsfc_test_df = fix_label_vsfc(vsfc_test_df)"
      ]
    },
    {
      "cell_type": "code",
      "execution_count": 9,
      "metadata": {
        "colab": {
          "base_uri": "https://localhost:8080/"
        },
        "id": "KB9heeIdza8u",
        "outputId": "caa5617c-1713-4f55-8c1e-c678fe7f4475"
      },
      "outputs": [
        {
          "data": {
            "text/html": [
              "<div>\n",
              "<style scoped>\n",
              "    .dataframe tbody tr th:only-of-type {\n",
              "        vertical-align: middle;\n",
              "    }\n",
              "\n",
              "    .dataframe tbody tr th {\n",
              "        vertical-align: top;\n",
              "    }\n",
              "\n",
              "    .dataframe thead th {\n",
              "        text-align: right;\n",
              "    }\n",
              "</style>\n",
              "<table border=\"1\" class=\"dataframe\">\n",
              "  <thead>\n",
              "    <tr style=\"text-align: right;\">\n",
              "      <th></th>\n",
              "      <th>sent</th>\n",
              "      <th>sentiment</th>\n",
              "    </tr>\n",
              "  </thead>\n",
              "  <tbody>\n",
              "    <tr>\n",
              "      <th>0</th>\n",
              "      <td>slide giáo trình đầy đủ .</td>\n",
              "      <td>POS</td>\n",
              "    </tr>\n",
              "    <tr>\n",
              "      <th>1</th>\n",
              "      <td>nhiệt tình giảng dạy , gần gũi với sinh viên .</td>\n",
              "      <td>POS</td>\n",
              "    </tr>\n",
              "    <tr>\n",
              "      <th>2</th>\n",
              "      <td>đi học đầy đủ full điểm chuyên cần .</td>\n",
              "      <td>NEG</td>\n",
              "    </tr>\n",
              "    <tr>\n",
              "      <th>3</th>\n",
              "      <td>chưa áp dụng công nghệ thông tin và các thiết ...</td>\n",
              "      <td>NEG</td>\n",
              "    </tr>\n",
              "    <tr>\n",
              "      <th>4</th>\n",
              "      <td>thầy giảng bài hay , có nhiều bài tập ví dụ ng...</td>\n",
              "      <td>POS</td>\n",
              "    </tr>\n",
              "  </tbody>\n",
              "</table>\n",
              "</div>"
            ],
            "text/plain": [
              "                                                sent sentiment\n",
              "0                          slide giáo trình đầy đủ .       POS\n",
              "1     nhiệt tình giảng dạy , gần gũi với sinh viên .       POS\n",
              "2               đi học đầy đủ full điểm chuyên cần .       NEG\n",
              "3  chưa áp dụng công nghệ thông tin và các thiết ...       NEG\n",
              "4  thầy giảng bài hay , có nhiều bài tập ví dụ ng...       POS"
            ]
          },
          "execution_count": 9,
          "metadata": {},
          "output_type": "execute_result"
        }
      ],
      "source": [
        "vsfc_train_df.head()"
      ]
    },
    {
      "cell_type": "markdown",
      "metadata": {
        "id": "3oG-P0g2zkue"
      },
      "source": [
        "### Tiki"
      ]
    },
    {
      "cell_type": "code",
      "execution_count": 10,
      "metadata": {
        "id": "JIVa-YW-zqlt"
      },
      "outputs": [],
      "source": [
        "tiki_df = pd.read_csv('../data/raw/tiki/comments.csv')"
      ]
    },
    {
      "cell_type": "code",
      "execution_count": 11,
      "metadata": {
        "colab": {
          "base_uri": "https://localhost:8080/"
        },
        "id": "K0nS2AKOz4Du",
        "outputId": "70919ba9-c37a-4d5e-a3a4-69ddf159976d"
      },
      "outputs": [
        {
          "data": {
            "text/html": [
              "<div>\n",
              "<style scoped>\n",
              "    .dataframe tbody tr th:only-of-type {\n",
              "        vertical-align: middle;\n",
              "    }\n",
              "\n",
              "    .dataframe tbody tr th {\n",
              "        vertical-align: top;\n",
              "    }\n",
              "\n",
              "    .dataframe thead th {\n",
              "        text-align: right;\n",
              "    }\n",
              "</style>\n",
              "<table border=\"1\" class=\"dataframe\">\n",
              "  <thead>\n",
              "    <tr style=\"text-align: right;\">\n",
              "      <th></th>\n",
              "      <th>product_id</th>\n",
              "      <th>comment_id</th>\n",
              "      <th>title</th>\n",
              "      <th>thank_count</th>\n",
              "      <th>customer_id</th>\n",
              "      <th>rating</th>\n",
              "      <th>content</th>\n",
              "    </tr>\n",
              "  </thead>\n",
              "  <tbody>\n",
              "    <tr>\n",
              "      <th>0</th>\n",
              "      <td>74021317</td>\n",
              "      <td>12559756</td>\n",
              "      <td>Cực kì hài lòng</td>\n",
              "      <td>313</td>\n",
              "      <td>22051463</td>\n",
              "      <td>5</td>\n",
              "      <td>Có những người bước đến, họ lấp đầy hạnh phúc ...</td>\n",
              "    </tr>\n",
              "    <tr>\n",
              "      <th>1</th>\n",
              "      <td>74021317</td>\n",
              "      <td>16979365</td>\n",
              "      <td>Cực kì hài lòng</td>\n",
              "      <td>6</td>\n",
              "      <td>27791831</td>\n",
              "      <td>5</td>\n",
              "      <td>Thấy nhiều bạn chê tiki gói hàng quá, may sao ...</td>\n",
              "    </tr>\n",
              "    <tr>\n",
              "      <th>2</th>\n",
              "      <td>74021317</td>\n",
              "      <td>14069617</td>\n",
              "      <td>Cực kì hài lòng</td>\n",
              "      <td>25</td>\n",
              "      <td>17748750</td>\n",
              "      <td>5</td>\n",
              "      <td>Bìa cực xinh, tiki giao hàng nhanh, sách không...</td>\n",
              "    </tr>\n",
              "    <tr>\n",
              "      <th>3</th>\n",
              "      <td>74021317</td>\n",
              "      <td>8569824</td>\n",
              "      <td>Cực kì hài lòng</td>\n",
              "      <td>57</td>\n",
              "      <td>410797</td>\n",
              "      <td>5</td>\n",
              "      <td>Sách lúc nhận hình thức rất ổn, không cong vên...</td>\n",
              "    </tr>\n",
              "    <tr>\n",
              "      <th>4</th>\n",
              "      <td>74021317</td>\n",
              "      <td>18368714</td>\n",
              "      <td>Cực kì hài lòng</td>\n",
              "      <td>0</td>\n",
              "      <td>28545286</td>\n",
              "      <td>5</td>\n",
              "      <td>Một cuốn sách rất đáng đọc về tình yêu thương ...</td>\n",
              "    </tr>\n",
              "  </tbody>\n",
              "</table>\n",
              "</div>"
            ],
            "text/plain": [
              "   product_id  comment_id            title  thank_count  customer_id  rating  \\\n",
              "0    74021317    12559756  Cực kì hài lòng          313     22051463       5   \n",
              "1    74021317    16979365  Cực kì hài lòng            6     27791831       5   \n",
              "2    74021317    14069617  Cực kì hài lòng           25     17748750       5   \n",
              "3    74021317     8569824  Cực kì hài lòng           57       410797       5   \n",
              "4    74021317    18368714  Cực kì hài lòng            0     28545286       5   \n",
              "\n",
              "                                             content  \n",
              "0  Có những người bước đến, họ lấp đầy hạnh phúc ...  \n",
              "1  Thấy nhiều bạn chê tiki gói hàng quá, may sao ...  \n",
              "2  Bìa cực xinh, tiki giao hàng nhanh, sách không...  \n",
              "3  Sách lúc nhận hình thức rất ổn, không cong vên...  \n",
              "4  Một cuốn sách rất đáng đọc về tình yêu thương ...  "
            ]
          },
          "execution_count": 11,
          "metadata": {},
          "output_type": "execute_result"
        }
      ],
      "source": [
        "tiki_df.head()"
      ]
    },
    {
      "cell_type": "code",
      "execution_count": 12,
      "metadata": {
        "colab": {
          "base_uri": "https://localhost:8080/"
        },
        "id": "MlCbZsNh1Akm",
        "outputId": "de84c95e-8fae-47ce-b7cd-3db8093024fb"
      },
      "outputs": [
        {
          "data": {
            "text/plain": [
              "product_id         0\n",
              "comment_id         0\n",
              "title              4\n",
              "thank_count        0\n",
              "customer_id        0\n",
              "rating             0\n",
              "content        38018\n",
              "dtype: int64"
            ]
          },
          "execution_count": 12,
          "metadata": {},
          "output_type": "execute_result"
        }
      ],
      "source": [
        "tiki_df.isna().sum()"
      ]
    },
    {
      "cell_type": "code",
      "execution_count": 13,
      "metadata": {
        "id": "Al-Y42cd6G1X"
      },
      "outputs": [],
      "source": [
        "tiki_df = tiki_df.loc[(tiki_df['content'].notna()) | (tiki_df['content'].str.strip() == '')]"
      ]
    },
    {
      "cell_type": "code",
      "execution_count": 14,
      "metadata": {
        "colab": {
          "base_uri": "https://localhost:8080/"
        },
        "id": "990_Nd3U0EMl",
        "outputId": "782d02e2-7e0d-4fb7-a4d0-d2a009714d22"
      },
      "outputs": [
        {
          "data": {
            "text/plain": [
              "103263"
            ]
          },
          "execution_count": 14,
          "metadata": {},
          "output_type": "execute_result"
        }
      ],
      "source": [
        "len(tiki_df)"
      ]
    },
    {
      "cell_type": "code",
      "execution_count": 15,
      "metadata": {
        "id": "j32BRAYN0Ny-"
      },
      "outputs": [],
      "source": [
        "tiki_df['sentiment'] = tiki_df['rating'].apply(lambda x: ('NEG', 'NEG', 'NEU', 'POS', 'POS')[x - 1])\n",
        "tiki_df.rename(columns={\n",
        "    'content': 'sent'\n",
        "}, inplace=True)\n",
        "tiki_df = tiki_df[['sent', 'sentiment']]"
      ]
    },
    {
      "cell_type": "code",
      "execution_count": 16,
      "metadata": {
        "colab": {
          "base_uri": "https://localhost:8080/"
        },
        "id": "JLpSuh3_8wT-",
        "outputId": "76fd5eb4-8360-44f6-d569-83020fa2d958"
      },
      "outputs": [
        {
          "data": {
            "text/html": [
              "<div>\n",
              "<style scoped>\n",
              "    .dataframe tbody tr th:only-of-type {\n",
              "        vertical-align: middle;\n",
              "    }\n",
              "\n",
              "    .dataframe tbody tr th {\n",
              "        vertical-align: top;\n",
              "    }\n",
              "\n",
              "    .dataframe thead th {\n",
              "        text-align: right;\n",
              "    }\n",
              "</style>\n",
              "<table border=\"1\" class=\"dataframe\">\n",
              "  <thead>\n",
              "    <tr style=\"text-align: right;\">\n",
              "      <th></th>\n",
              "      <th>sent</th>\n",
              "      <th>sentiment</th>\n",
              "    </tr>\n",
              "  </thead>\n",
              "  <tbody>\n",
              "    <tr>\n",
              "      <th>0</th>\n",
              "      <td>Có những người bước đến, họ lấp đầy hạnh phúc ...</td>\n",
              "      <td>POS</td>\n",
              "    </tr>\n",
              "    <tr>\n",
              "      <th>1</th>\n",
              "      <td>Thấy nhiều bạn chê tiki gói hàng quá, may sao ...</td>\n",
              "      <td>POS</td>\n",
              "    </tr>\n",
              "    <tr>\n",
              "      <th>2</th>\n",
              "      <td>Bìa cực xinh, tiki giao hàng nhanh, sách không...</td>\n",
              "      <td>POS</td>\n",
              "    </tr>\n",
              "    <tr>\n",
              "      <th>3</th>\n",
              "      <td>Sách lúc nhận hình thức rất ổn, không cong vên...</td>\n",
              "      <td>POS</td>\n",
              "    </tr>\n",
              "    <tr>\n",
              "      <th>4</th>\n",
              "      <td>Một cuốn sách rất đáng đọc về tình yêu thương ...</td>\n",
              "      <td>POS</td>\n",
              "    </tr>\n",
              "  </tbody>\n",
              "</table>\n",
              "</div>"
            ],
            "text/plain": [
              "                                                sent sentiment\n",
              "0  Có những người bước đến, họ lấp đầy hạnh phúc ...       POS\n",
              "1  Thấy nhiều bạn chê tiki gói hàng quá, may sao ...       POS\n",
              "2  Bìa cực xinh, tiki giao hàng nhanh, sách không...       POS\n",
              "3  Sách lúc nhận hình thức rất ổn, không cong vên...       POS\n",
              "4  Một cuốn sách rất đáng đọc về tình yêu thương ...       POS"
            ]
          },
          "execution_count": 16,
          "metadata": {},
          "output_type": "execute_result"
        }
      ],
      "source": [
        "tiki_df.head()"
      ]
    },
    {
      "cell_type": "code",
      "execution_count": 17,
      "metadata": {
        "id": "gWiknJ-6PODF"
      },
      "outputs": [],
      "source": [
        "tiki_train_df, tiki_valid_test_df = train_test_split(tiki_df, test_size=0.2, random_state=42, stratify=tiki_df['sentiment'])\n",
        "tiki_valid_df, tiki_test_df = train_test_split(tiki_valid_test_df, test_size=0.5, random_state=42, stratify=tiki_valid_test_df['sentiment'])"
      ]
    },
    {
      "cell_type": "markdown",
      "metadata": {
        "id": "W_Pn0nah9UsI"
      },
      "source": [
        "### UIT-VSMEC"
      ]
    },
    {
      "cell_type": "code",
      "execution_count": 18,
      "metadata": {
        "id": "rN_Jgs5_9Ft3"
      },
      "outputs": [],
      "source": [
        "vsmec_train_df = pd.read_excel('../data/raw/uit-vsmec/train_nor_811.xlsx')\n",
        "vsmec_valid_df = pd.read_excel('../data/raw/uit-vsmec/valid_nor_811.xlsx')\n",
        "vsmec_test_df = pd.read_excel('../data/raw/uit-vsmec/test_nor_811.xlsx')"
      ]
    },
    {
      "cell_type": "code",
      "execution_count": 20,
      "metadata": {
        "colab": {
          "base_uri": "https://localhost:8080/"
        },
        "id": "qnDi_DT29pDj",
        "outputId": "3fc68e98-efae-4228-89cc-498917b8f3ba"
      },
      "outputs": [
        {
          "data": {
            "text/html": [
              "<div>\n",
              "<style scoped>\n",
              "    .dataframe tbody tr th:only-of-type {\n",
              "        vertical-align: middle;\n",
              "    }\n",
              "\n",
              "    .dataframe tbody tr th {\n",
              "        vertical-align: top;\n",
              "    }\n",
              "\n",
              "    .dataframe thead th {\n",
              "        text-align: right;\n",
              "    }\n",
              "</style>\n",
              "<table border=\"1\" class=\"dataframe\">\n",
              "  <thead>\n",
              "    <tr style=\"text-align: right;\">\n",
              "      <th></th>\n",
              "      <th>Unnamed: 0</th>\n",
              "      <th>Emotion</th>\n",
              "      <th>Sentence</th>\n",
              "    </tr>\n",
              "  </thead>\n",
              "  <tbody>\n",
              "    <tr>\n",
              "      <th>0</th>\n",
              "      <td>188</td>\n",
              "      <td>Other</td>\n",
              "      <td>cho mình xin bài nhạc tên là gì với ạ</td>\n",
              "    </tr>\n",
              "    <tr>\n",
              "      <th>1</th>\n",
              "      <td>166</td>\n",
              "      <td>Disgust</td>\n",
              "      <td>cho đáng đời con quỷ . về nhà lôi con nhà mày ...</td>\n",
              "    </tr>\n",
              "    <tr>\n",
              "      <th>2</th>\n",
              "      <td>1345</td>\n",
              "      <td>Disgust</td>\n",
              "      <td>lo học đi . yêu đương lol gì hay lại thích học...</td>\n",
              "    </tr>\n",
              "    <tr>\n",
              "      <th>3</th>\n",
              "      <td>316</td>\n",
              "      <td>Enjoyment</td>\n",
              "      <td>uớc gì sau này về già vẫn có thể như cụ này :))</td>\n",
              "    </tr>\n",
              "    <tr>\n",
              "      <th>4</th>\n",
              "      <td>1225</td>\n",
              "      <td>Enjoyment</td>\n",
              "      <td>mỗi lần có video của con là cứ coi đi coi lại ...</td>\n",
              "    </tr>\n",
              "  </tbody>\n",
              "</table>\n",
              "</div>"
            ],
            "text/plain": [
              "   Unnamed: 0    Emotion                                           Sentence\n",
              "0         188      Other              cho mình xin bài nhạc tên là gì với ạ\n",
              "1         166    Disgust  cho đáng đời con quỷ . về nhà lôi con nhà mày ...\n",
              "2        1345    Disgust  lo học đi . yêu đương lol gì hay lại thích học...\n",
              "3         316  Enjoyment    uớc gì sau này về già vẫn có thể như cụ này :))\n",
              "4        1225  Enjoyment  mỗi lần có video của con là cứ coi đi coi lại ..."
            ]
          },
          "execution_count": 20,
          "metadata": {},
          "output_type": "execute_result"
        }
      ],
      "source": [
        "vsmec_train_df.head()"
      ]
    },
    {
      "cell_type": "code",
      "execution_count": 21,
      "metadata": {
        "colab": {
          "base_uri": "https://localhost:8080/"
        },
        "id": "bu5W1hvv94Pv",
        "outputId": "a147464e-5ab0-4eef-929b-b94db04e5640"
      },
      "outputs": [
        {
          "name": "stdout",
          "output_type": "stream",
          "text": [
            "Train: \n",
            "Unnamed: 0    0\n",
            "Emotion       0\n",
            "Sentence      0\n",
            "dtype: int64\n",
            "--------------------------------------------------\n",
            "Valid: \n",
            "Unnamed: 0    0\n",
            "Emotion       0\n",
            "Sentence      0\n",
            "dtype: int64\n",
            "--------------------------------------------------\n",
            "Test: \n",
            "Unnamed: 0    0\n",
            "Emotion       0\n",
            "Sentence      0\n",
            "dtype: int64\n"
          ]
        }
      ],
      "source": [
        "print(f'Train: \\n{vsmec_train_df.isna().sum()}')\n",
        "print('-' * 50)\n",
        "print(f'Valid: \\n{vsmec_valid_df.isna().sum()}')\n",
        "print('-' * 50)\n",
        "print(f'Test: \\n{vsmec_test_df.isna().sum()}')"
      ]
    },
    {
      "cell_type": "code",
      "execution_count": 22,
      "metadata": {
        "colab": {
          "base_uri": "https://localhost:8080/"
        },
        "id": "39Wett2_9uCR",
        "outputId": "e32c64d7-a315-4c18-aea5-ee73ba7e7a8f"
      },
      "outputs": [
        {
          "name": "stdout",
          "output_type": "stream",
          "text": [
            "Train length: 5548\n",
            "Valid length: 686\n",
            "Test length: 693\n"
          ]
        }
      ],
      "source": [
        "print(f'Train length: {len(vsmec_train_df)}')\n",
        "print(f'Valid length: {len(vsmec_valid_df)}')\n",
        "print(f'Test length: {len(vsmec_test_df)}')"
      ]
    },
    {
      "cell_type": "code",
      "execution_count": 23,
      "metadata": {
        "colab": {
          "base_uri": "https://localhost:8080/"
        },
        "id": "UAVJNhiJ-ehh",
        "outputId": "668f2277-8cb9-442a-be10-6eb44b30474c"
      },
      "outputs": [
        {
          "data": {
            "text/plain": [
              "array(['Other', 'Disgust', 'Enjoyment', 'Anger', 'Surprise', 'Sadness',\n",
              "       'Fear'], dtype=object)"
            ]
          },
          "execution_count": 23,
          "metadata": {},
          "output_type": "execute_result"
        }
      ],
      "source": [
        "vsmec_train_df['Emotion'].unique()"
      ]
    },
    {
      "cell_type": "code",
      "execution_count": 26,
      "metadata": {
        "id": "52SHCHly_B1w"
      },
      "outputs": [],
      "source": [
        "def emotion_to_sentiment(emotion):\n",
        "    pos = ['Enjoyment']\n",
        "    neg = ['Disgust', 'Anger', 'Sadness', 'Fear']\n",
        "    neu = ['Other', 'Surprise']\n",
        "    if emotion in pos:\n",
        "        return 'POS'\n",
        "    elif emotion in neg:\n",
        "        return 'NEG'\n",
        "    return 'NEU'\n",
        "def fix_vsmec_df(df):\n",
        "    df['sentiment'] = df['Emotion'].apply(emotion_to_sentiment)\n",
        "    df.rename(columns={\n",
        "        'Sentence': 'sent'\n",
        "    }, inplace=True)\n",
        "    df = df[['sent', 'sentiment']]\n",
        "    return df"
      ]
    },
    {
      "cell_type": "code",
      "execution_count": 27,
      "metadata": {
        "id": "642dCqms_j7X"
      },
      "outputs": [],
      "source": [
        "vsmec_train_df = fix_vsmec_df(vsmec_train_df)\n",
        "vsmec_valid_df = fix_vsmec_df(vsmec_valid_df)\n",
        "vsmec_test_df = fix_vsmec_df(vsmec_test_df)"
      ]
    },
    {
      "cell_type": "code",
      "execution_count": 28,
      "metadata": {
        "colab": {
          "base_uri": "https://localhost:8080/"
        },
        "id": "MiU1FL63_xEf",
        "outputId": "0adb5bb4-5445-454d-fbbb-991968be5ff4"
      },
      "outputs": [
        {
          "data": {
            "text/html": [
              "<div>\n",
              "<style scoped>\n",
              "    .dataframe tbody tr th:only-of-type {\n",
              "        vertical-align: middle;\n",
              "    }\n",
              "\n",
              "    .dataframe tbody tr th {\n",
              "        vertical-align: top;\n",
              "    }\n",
              "\n",
              "    .dataframe thead th {\n",
              "        text-align: right;\n",
              "    }\n",
              "</style>\n",
              "<table border=\"1\" class=\"dataframe\">\n",
              "  <thead>\n",
              "    <tr style=\"text-align: right;\">\n",
              "      <th></th>\n",
              "      <th>sent</th>\n",
              "      <th>sentiment</th>\n",
              "    </tr>\n",
              "  </thead>\n",
              "  <tbody>\n",
              "    <tr>\n",
              "      <th>0</th>\n",
              "      <td>cho mình xin bài nhạc tên là gì với ạ</td>\n",
              "      <td>NEU</td>\n",
              "    </tr>\n",
              "    <tr>\n",
              "      <th>1</th>\n",
              "      <td>cho đáng đời con quỷ . về nhà lôi con nhà mày ...</td>\n",
              "      <td>NEG</td>\n",
              "    </tr>\n",
              "    <tr>\n",
              "      <th>2</th>\n",
              "      <td>lo học đi . yêu đương lol gì hay lại thích học...</td>\n",
              "      <td>NEG</td>\n",
              "    </tr>\n",
              "    <tr>\n",
              "      <th>3</th>\n",
              "      <td>uớc gì sau này về già vẫn có thể như cụ này :))</td>\n",
              "      <td>POS</td>\n",
              "    </tr>\n",
              "    <tr>\n",
              "      <th>4</th>\n",
              "      <td>mỗi lần có video của con là cứ coi đi coi lại ...</td>\n",
              "      <td>POS</td>\n",
              "    </tr>\n",
              "  </tbody>\n",
              "</table>\n",
              "</div>"
            ],
            "text/plain": [
              "                                                sent sentiment\n",
              "0              cho mình xin bài nhạc tên là gì với ạ       NEU\n",
              "1  cho đáng đời con quỷ . về nhà lôi con nhà mày ...       NEG\n",
              "2  lo học đi . yêu đương lol gì hay lại thích học...       NEG\n",
              "3    uớc gì sau này về già vẫn có thể như cụ này :))       POS\n",
              "4  mỗi lần có video của con là cứ coi đi coi lại ...       POS"
            ]
          },
          "execution_count": 28,
          "metadata": {},
          "output_type": "execute_result"
        }
      ],
      "source": [
        "vsmec_train_df.head()"
      ]
    },
    {
      "cell_type": "markdown",
      "metadata": {
        "id": "ei7pNcLXA66J"
      },
      "source": [
        "### IMDB"
      ]
    },
    {
      "cell_type": "code",
      "execution_count": 29,
      "metadata": {
        "id": "Yo0WiuviA6jw"
      },
      "outputs": [],
      "source": [
        "imdb_df = pd.read_csv('../data/raw/imdb/VI_IMDB.csv')"
      ]
    },
    {
      "cell_type": "code",
      "execution_count": 31,
      "metadata": {
        "colab": {
          "base_uri": "https://localhost:8080/"
        },
        "id": "67RbW-XgBGM3",
        "outputId": "90066220-cefa-47aa-e6cc-d5f111e6363c"
      },
      "outputs": [
        {
          "data": {
            "text/html": [
              "<div>\n",
              "<style scoped>\n",
              "    .dataframe tbody tr th:only-of-type {\n",
              "        vertical-align: middle;\n",
              "    }\n",
              "\n",
              "    .dataframe tbody tr th {\n",
              "        vertical-align: top;\n",
              "    }\n",
              "\n",
              "    .dataframe thead th {\n",
              "        text-align: right;\n",
              "    }\n",
              "</style>\n",
              "<table border=\"1\" class=\"dataframe\">\n",
              "  <thead>\n",
              "    <tr style=\"text-align: right;\">\n",
              "      <th></th>\n",
              "      <th>review</th>\n",
              "      <th>sentiment</th>\n",
              "      <th>vi_review</th>\n",
              "    </tr>\n",
              "  </thead>\n",
              "  <tbody>\n",
              "    <tr>\n",
              "      <th>0</th>\n",
              "      <td>One of the other reviewers has mentioned that ...</td>\n",
              "      <td>positive</td>\n",
              "      <td>Một trong những người đánh giá khác đã đề cập ...</td>\n",
              "    </tr>\n",
              "    <tr>\n",
              "      <th>1</th>\n",
              "      <td>A wonderful little production. &lt;br /&gt;&lt;br /&gt;The...</td>\n",
              "      <td>positive</td>\n",
              "      <td>Một sản phẩm nhỏ tuyệt vời. &lt;br /&gt;&lt;br /&gt;Kỹ thu...</td>\n",
              "    </tr>\n",
              "    <tr>\n",
              "      <th>2</th>\n",
              "      <td>I thought this was a wonderful way to spend ti...</td>\n",
              "      <td>positive</td>\n",
              "      <td>Tôi nghĩ đây là một cách tuyệt vời để dành thờ...</td>\n",
              "    </tr>\n",
              "    <tr>\n",
              "      <th>3</th>\n",
              "      <td>Basically there's a family where a little boy ...</td>\n",
              "      <td>negative</td>\n",
              "      <td>Về cơ bản, có một gia đình mà một cậu bé (Jake...</td>\n",
              "    </tr>\n",
              "    <tr>\n",
              "      <th>4</th>\n",
              "      <td>Petter Mattei's \"Love in the Time of Money\" is...</td>\n",
              "      <td>positive</td>\n",
              "      <td>\"Love in the Time of Money\" của Petter Mattei ...</td>\n",
              "    </tr>\n",
              "  </tbody>\n",
              "</table>\n",
              "</div>"
            ],
            "text/plain": [
              "                                              review sentiment  \\\n",
              "0  One of the other reviewers has mentioned that ...  positive   \n",
              "1  A wonderful little production. <br /><br />The...  positive   \n",
              "2  I thought this was a wonderful way to spend ti...  positive   \n",
              "3  Basically there's a family where a little boy ...  negative   \n",
              "4  Petter Mattei's \"Love in the Time of Money\" is...  positive   \n",
              "\n",
              "                                           vi_review  \n",
              "0  Một trong những người đánh giá khác đã đề cập ...  \n",
              "1  Một sản phẩm nhỏ tuyệt vời. <br /><br />Kỹ thu...  \n",
              "2  Tôi nghĩ đây là một cách tuyệt vời để dành thờ...  \n",
              "3  Về cơ bản, có một gia đình mà một cậu bé (Jake...  \n",
              "4  \"Love in the Time of Money\" của Petter Mattei ...  "
            ]
          },
          "execution_count": 31,
          "metadata": {},
          "output_type": "execute_result"
        }
      ],
      "source": [
        "imdb_df.head()"
      ]
    },
    {
      "cell_type": "code",
      "execution_count": 32,
      "metadata": {
        "colab": {
          "base_uri": "https://localhost:8080/"
        },
        "id": "rYqC8u5QDdpI",
        "outputId": "abe30c3e-47e1-4f52-89a6-8d5bdbca9652"
      },
      "outputs": [
        {
          "data": {
            "text/plain": [
              "review       0\n",
              "sentiment    0\n",
              "vi_review    0\n",
              "dtype: int64"
            ]
          },
          "execution_count": 32,
          "metadata": {},
          "output_type": "execute_result"
        }
      ],
      "source": [
        "imdb_df.isna().sum()"
      ]
    },
    {
      "cell_type": "code",
      "execution_count": 33,
      "metadata": {
        "colab": {
          "base_uri": "https://localhost:8080/"
        },
        "id": "93nS8q4nGK8p",
        "outputId": "338ab2e5-86ff-4278-f724-58bc0b7889f9"
      },
      "outputs": [
        {
          "data": {
            "text/plain": [
              "50000"
            ]
          },
          "execution_count": 33,
          "metadata": {},
          "output_type": "execute_result"
        }
      ],
      "source": [
        "len(imdb_df)"
      ]
    },
    {
      "cell_type": "code",
      "execution_count": 34,
      "metadata": {
        "id": "cOJAQTSlDh-A"
      },
      "outputs": [],
      "source": [
        "def fix_sentiment(sentiment):\n",
        "    if sentiment == 'positive':\n",
        "        return 'POS'\n",
        "    elif sentiment == 'negative':\n",
        "        return 'NEG'\n",
        "    return 'NEU'"
      ]
    },
    {
      "cell_type": "code",
      "execution_count": 35,
      "metadata": {
        "id": "yfuc6aOKGBgq"
      },
      "outputs": [],
      "source": [
        "imdb_df['sentiment'] = imdb_df['sentiment'].apply(fix_sentiment)\n",
        "imdb_df.rename(columns={\n",
        "    'vi_review': 'sent'\n",
        "}, inplace=True)\n",
        "imdb_df = imdb_df[['sent', 'sentiment']]"
      ]
    },
    {
      "cell_type": "code",
      "execution_count": 37,
      "metadata": {
        "colab": {
          "base_uri": "https://localhost:8080/"
        },
        "id": "XH1Tx9a3GdoD",
        "outputId": "d351d3d7-93a0-47cd-8377-f0115ea62664"
      },
      "outputs": [
        {
          "data": {
            "text/html": [
              "<div>\n",
              "<style scoped>\n",
              "    .dataframe tbody tr th:only-of-type {\n",
              "        vertical-align: middle;\n",
              "    }\n",
              "\n",
              "    .dataframe tbody tr th {\n",
              "        vertical-align: top;\n",
              "    }\n",
              "\n",
              "    .dataframe thead th {\n",
              "        text-align: right;\n",
              "    }\n",
              "</style>\n",
              "<table border=\"1\" class=\"dataframe\">\n",
              "  <thead>\n",
              "    <tr style=\"text-align: right;\">\n",
              "      <th></th>\n",
              "      <th>sent</th>\n",
              "      <th>sentiment</th>\n",
              "    </tr>\n",
              "  </thead>\n",
              "  <tbody>\n",
              "    <tr>\n",
              "      <th>0</th>\n",
              "      <td>Một trong những người đánh giá khác đã đề cập ...</td>\n",
              "      <td>POS</td>\n",
              "    </tr>\n",
              "    <tr>\n",
              "      <th>1</th>\n",
              "      <td>Một sản phẩm nhỏ tuyệt vời. &lt;br /&gt;&lt;br /&gt;Kỹ thu...</td>\n",
              "      <td>POS</td>\n",
              "    </tr>\n",
              "    <tr>\n",
              "      <th>2</th>\n",
              "      <td>Tôi nghĩ đây là một cách tuyệt vời để dành thờ...</td>\n",
              "      <td>POS</td>\n",
              "    </tr>\n",
              "    <tr>\n",
              "      <th>3</th>\n",
              "      <td>Về cơ bản, có một gia đình mà một cậu bé (Jake...</td>\n",
              "      <td>NEG</td>\n",
              "    </tr>\n",
              "    <tr>\n",
              "      <th>4</th>\n",
              "      <td>\"Love in the Time of Money\" của Petter Mattei ...</td>\n",
              "      <td>POS</td>\n",
              "    </tr>\n",
              "  </tbody>\n",
              "</table>\n",
              "</div>"
            ],
            "text/plain": [
              "                                                sent sentiment\n",
              "0  Một trong những người đánh giá khác đã đề cập ...       POS\n",
              "1  Một sản phẩm nhỏ tuyệt vời. <br /><br />Kỹ thu...       POS\n",
              "2  Tôi nghĩ đây là một cách tuyệt vời để dành thờ...       POS\n",
              "3  Về cơ bản, có một gia đình mà một cậu bé (Jake...       NEG\n",
              "4  \"Love in the Time of Money\" của Petter Mattei ...       POS"
            ]
          },
          "execution_count": 37,
          "metadata": {},
          "output_type": "execute_result"
        }
      ],
      "source": [
        "imdb_df.head()"
      ]
    },
    {
      "cell_type": "code",
      "execution_count": 38,
      "metadata": {
        "id": "qbqsY2UJQXaA"
      },
      "outputs": [],
      "source": [
        "imdb_train_df, imdb_valid_test_df = train_test_split(imdb_df, test_size=0.2, random_state=42, stratify=imdb_df['sentiment'])\n",
        "imdb_valid_df, imdb_test_df = train_test_split(imdb_valid_test_df, test_size=0.5, random_state=42, stratify=imdb_valid_test_df['sentiment'])"
      ]
    },
    {
      "cell_type": "markdown",
      "metadata": {
        "id": "7GthaH_nGnRZ"
      },
      "source": [
        "### UIT-VISFD"
      ]
    },
    {
      "cell_type": "code",
      "execution_count": 39,
      "metadata": {
        "id": "DSHEzkHAGqGU"
      },
      "outputs": [],
      "source": [
        "visfd_train_df = pd.read_csv('../data/raw/uit-visfd/Train.csv')\n",
        "visfd_valid_df = pd.read_csv('../data/raw/uit-visfd/Dev.csv')\n",
        "visfd_test_df = pd.read_csv('../data/raw/uit-visfd/Test.csv')"
      ]
    },
    {
      "cell_type": "code",
      "execution_count": 40,
      "metadata": {
        "colab": {
          "base_uri": "https://localhost:8080/"
        },
        "id": "pSGdsb41G5Xo",
        "outputId": "f2e69a26-5c17-402c-96af-6f5d8d1d9dd7"
      },
      "outputs": [
        {
          "data": {
            "text/html": [
              "<div>\n",
              "<style scoped>\n",
              "    .dataframe tbody tr th:only-of-type {\n",
              "        vertical-align: middle;\n",
              "    }\n",
              "\n",
              "    .dataframe tbody tr th {\n",
              "        vertical-align: top;\n",
              "    }\n",
              "\n",
              "    .dataframe thead th {\n",
              "        text-align: right;\n",
              "    }\n",
              "</style>\n",
              "<table border=\"1\" class=\"dataframe\">\n",
              "  <thead>\n",
              "    <tr style=\"text-align: right;\">\n",
              "      <th></th>\n",
              "      <th>index</th>\n",
              "      <th>comment</th>\n",
              "      <th>n_star</th>\n",
              "      <th>date_time</th>\n",
              "      <th>label</th>\n",
              "    </tr>\n",
              "  </thead>\n",
              "  <tbody>\n",
              "    <tr>\n",
              "      <th>0</th>\n",
              "      <td>0</td>\n",
              "      <td>Mới mua máy này Tại thegioididong thốt nốt cảm...</td>\n",
              "      <td>5</td>\n",
              "      <td>2 tuần trước</td>\n",
              "      <td>{CAMERA#Positive};{FEATURES#Positive};{BATTERY...</td>\n",
              "    </tr>\n",
              "    <tr>\n",
              "      <th>1</th>\n",
              "      <td>1</td>\n",
              "      <td>Pin kém còn lại miễn chê mua 8/3/2019 tình trạ...</td>\n",
              "      <td>5</td>\n",
              "      <td>14/09/2019</td>\n",
              "      <td>{BATTERY#Negative};{GENERAL#Positive};{OTHERS};</td>\n",
              "    </tr>\n",
              "    <tr>\n",
              "      <th>2</th>\n",
              "      <td>2</td>\n",
              "      <td>Sao lúc gọi điện thoại màn hình bị chấm nhỏ nh...</td>\n",
              "      <td>3</td>\n",
              "      <td>17/08/2020</td>\n",
              "      <td>{FEATURES#Negative};</td>\n",
              "    </tr>\n",
              "    <tr>\n",
              "      <th>3</th>\n",
              "      <td>3</td>\n",
              "      <td>Mọi người cập nhật phần mềm lại , nó sẽ bớt tố...</td>\n",
              "      <td>3</td>\n",
              "      <td>29/02/2020</td>\n",
              "      <td>{FEATURES#Negative};{BATTERY#Neutral};{GENERAL...</td>\n",
              "    </tr>\n",
              "    <tr>\n",
              "      <th>4</th>\n",
              "      <td>4</td>\n",
              "      <td>Mới mua Sài được 1 tháng thấy pin rất trâu, Sà...</td>\n",
              "      <td>5</td>\n",
              "      <td>4/6/2020</td>\n",
              "      <td>{BATTERY#Positive};{PERFORMANCE#Positive};{SER...</td>\n",
              "    </tr>\n",
              "  </tbody>\n",
              "</table>\n",
              "</div>"
            ],
            "text/plain": [
              "   index                                            comment  n_star  \\\n",
              "0      0  Mới mua máy này Tại thegioididong thốt nốt cảm...       5   \n",
              "1      1  Pin kém còn lại miễn chê mua 8/3/2019 tình trạ...       5   \n",
              "2      2  Sao lúc gọi điện thoại màn hình bị chấm nhỏ nh...       3   \n",
              "3      3  Mọi người cập nhật phần mềm lại , nó sẽ bớt tố...       3   \n",
              "4      4  Mới mua Sài được 1 tháng thấy pin rất trâu, Sà...       5   \n",
              "\n",
              "      date_time                                              label  \n",
              "0  2 tuần trước  {CAMERA#Positive};{FEATURES#Positive};{BATTERY...  \n",
              "1    14/09/2019    {BATTERY#Negative};{GENERAL#Positive};{OTHERS};  \n",
              "2    17/08/2020                               {FEATURES#Negative};  \n",
              "3    29/02/2020  {FEATURES#Negative};{BATTERY#Neutral};{GENERAL...  \n",
              "4      4/6/2020  {BATTERY#Positive};{PERFORMANCE#Positive};{SER...  "
            ]
          },
          "execution_count": 40,
          "metadata": {},
          "output_type": "execute_result"
        }
      ],
      "source": [
        "visfd_train_df.head()"
      ]
    },
    {
      "cell_type": "code",
      "execution_count": 41,
      "metadata": {
        "colab": {
          "base_uri": "https://localhost:8080/"
        },
        "id": "OTh3DGtlHVtQ",
        "outputId": "fca7c501-82bf-48cf-eaec-09f2f927692b"
      },
      "outputs": [
        {
          "name": "stdout",
          "output_type": "stream",
          "text": [
            "Train: \n",
            "index        0\n",
            "comment      0\n",
            "n_star       0\n",
            "date_time    0\n",
            "label        0\n",
            "dtype: int64\n",
            "--------------------------------------------------\n",
            "Valid: \n",
            "index        0\n",
            "comment      0\n",
            "n_star       0\n",
            "date_time    0\n",
            "label        0\n",
            "dtype: int64\n",
            "--------------------------------------------------\n",
            "Test: \n",
            "index        0\n",
            "comment      0\n",
            "n_star       0\n",
            "date_time    0\n",
            "label        0\n",
            "dtype: int64\n"
          ]
        }
      ],
      "source": [
        "print(f'Train: \\n{visfd_train_df.isna().sum()}')\n",
        "print('-' * 50)\n",
        "print(f'Valid: \\n{visfd_valid_df.isna().sum()}')\n",
        "print('-' * 50)\n",
        "print(f'Test: \\n{visfd_test_df.isna().sum()}')"
      ]
    },
    {
      "cell_type": "code",
      "execution_count": 42,
      "metadata": {
        "colab": {
          "base_uri": "https://localhost:8080/"
        },
        "id": "4ZDmboffHmeA",
        "outputId": "550b3fc8-7663-4164-931f-2b31feade477"
      },
      "outputs": [
        {
          "name": "stdout",
          "output_type": "stream",
          "text": [
            "Train length: 7786\n",
            "Valid length: 1112\n",
            "Test length: 2224\n"
          ]
        }
      ],
      "source": [
        "print(f'Train length: {len(visfd_train_df)}')\n",
        "print(f'Valid length: {len(visfd_valid_df)}')\n",
        "print(f'Test length: {len(visfd_test_df)}')"
      ]
    },
    {
      "cell_type": "code",
      "execution_count": 43,
      "metadata": {
        "colab": {
          "base_uri": "https://localhost:8080/"
        },
        "id": "IB74nDs6HxHa",
        "outputId": "7429d52c-7d2e-40b7-e170-51575bc97d19"
      },
      "outputs": [
        {
          "name": "stdout",
          "output_type": "stream",
          "text": [
            "['NEG', 'POS', 'NEU']\n"
          ]
        }
      ],
      "source": [
        "def label_to_sentiment(label):\n",
        "    tags = label.split(';')\n",
        "    if not tags:\n",
        "        return 'NEU'\n",
        "    count_pos = 0\n",
        "    for tag in tags:\n",
        "        if len(tag) < 2:\n",
        "            continue\n",
        "        tag = tag[1:-1]\n",
        "        parts = tag.split('#')\n",
        "        if len(parts) != 2:\n",
        "            continue\n",
        "        feature, sentiment = parts\n",
        "        if sentiment == 'Positive':\n",
        "            sentiment = 'POS'\n",
        "        elif sentiment == 'Negative':\n",
        "            sentiment = 'NEG'\n",
        "        else:\n",
        "            sentiment = 'NEU'\n",
        "        if feature == 'GENERAL':\n",
        "            return sentiment\n",
        "        if sentiment == 'POS':\n",
        "            count_pos += 1\n",
        "        elif sentiment == 'NEG':\n",
        "            count_pos -= 1\n",
        "    if count_pos > 0:\n",
        "        return 'POS'\n",
        "    elif count_pos < 0:\n",
        "        return 'NEG'\n",
        "    return 'NEU'\n",
        "tests = [\n",
        "    '{FEATURES#Negative};',\n",
        "    '{BATTERY#Negative};{GENERAL#Positive};{OTHERS};',\n",
        "    '{BATTERY#Negative};{FEATURES#Positive};{OTHERS};'\n",
        "]\n",
        "print([label_to_sentiment(test) for test in tests])"
      ]
    },
    {
      "cell_type": "code",
      "execution_count": 44,
      "metadata": {
        "id": "zYhDfI1EUDl7"
      },
      "outputs": [],
      "source": [
        "def fix_visfd_df(df):\n",
        "    df['sentiment'] = df['label'].apply(label_to_sentiment)\n",
        "    df.rename(columns={\n",
        "        'comment': 'sent'\n",
        "    }, inplace=True)\n",
        "    df = df[['sent', 'sentiment']]\n",
        "    return df"
      ]
    },
    {
      "cell_type": "code",
      "execution_count": 45,
      "metadata": {
        "id": "mZp6bujwUwjN"
      },
      "outputs": [],
      "source": [
        "visfd_train_df = fix_visfd_df(visfd_train_df)\n",
        "visfd_valid_df = fix_visfd_df(visfd_valid_df)\n",
        "visfd_test_df = fix_visfd_df(visfd_test_df)"
      ]
    },
    {
      "cell_type": "code",
      "execution_count": 46,
      "metadata": {
        "colab": {
          "base_uri": "https://localhost:8080/"
        },
        "id": "e2vBQg8YVIq8",
        "outputId": "bf6f791f-98d0-48af-97d3-b35130b4f3de"
      },
      "outputs": [
        {
          "data": {
            "text/html": [
              "<div>\n",
              "<style scoped>\n",
              "    .dataframe tbody tr th:only-of-type {\n",
              "        vertical-align: middle;\n",
              "    }\n",
              "\n",
              "    .dataframe tbody tr th {\n",
              "        vertical-align: top;\n",
              "    }\n",
              "\n",
              "    .dataframe thead th {\n",
              "        text-align: right;\n",
              "    }\n",
              "</style>\n",
              "<table border=\"1\" class=\"dataframe\">\n",
              "  <thead>\n",
              "    <tr style=\"text-align: right;\">\n",
              "      <th></th>\n",
              "      <th>sent</th>\n",
              "      <th>sentiment</th>\n",
              "    </tr>\n",
              "  </thead>\n",
              "  <tbody>\n",
              "    <tr>\n",
              "      <th>0</th>\n",
              "      <td>Mới mua máy này Tại thegioididong thốt nốt cảm...</td>\n",
              "      <td>POS</td>\n",
              "    </tr>\n",
              "    <tr>\n",
              "      <th>1</th>\n",
              "      <td>Pin kém còn lại miễn chê mua 8/3/2019 tình trạ...</td>\n",
              "      <td>POS</td>\n",
              "    </tr>\n",
              "    <tr>\n",
              "      <th>2</th>\n",
              "      <td>Sao lúc gọi điện thoại màn hình bị chấm nhỏ nh...</td>\n",
              "      <td>NEG</td>\n",
              "    </tr>\n",
              "    <tr>\n",
              "      <th>3</th>\n",
              "      <td>Mọi người cập nhật phần mềm lại , nó sẽ bớt tố...</td>\n",
              "      <td>NEU</td>\n",
              "    </tr>\n",
              "    <tr>\n",
              "      <th>4</th>\n",
              "      <td>Mới mua Sài được 1 tháng thấy pin rất trâu, Sà...</td>\n",
              "      <td>POS</td>\n",
              "    </tr>\n",
              "  </tbody>\n",
              "</table>\n",
              "</div>"
            ],
            "text/plain": [
              "                                                sent sentiment\n",
              "0  Mới mua máy này Tại thegioididong thốt nốt cảm...       POS\n",
              "1  Pin kém còn lại miễn chê mua 8/3/2019 tình trạ...       POS\n",
              "2  Sao lúc gọi điện thoại màn hình bị chấm nhỏ nh...       NEG\n",
              "3  Mọi người cập nhật phần mềm lại , nó sẽ bớt tố...       NEU\n",
              "4  Mới mua Sài được 1 tháng thấy pin rất trâu, Sà...       POS"
            ]
          },
          "execution_count": 46,
          "metadata": {},
          "output_type": "execute_result"
        }
      ],
      "source": [
        "visfd_train_df.head()"
      ]
    },
    {
      "cell_type": "markdown",
      "metadata": {
        "id": "vABeTz5MVTuQ"
      },
      "source": [
        "### Cat all datasets"
      ]
    },
    {
      "cell_type": "code",
      "execution_count": 47,
      "metadata": {
        "id": "sAnxMq0aVTN0"
      },
      "outputs": [],
      "source": [
        "train_df = pd.concat([vsfc_train_df, tiki_train_df, vsmec_train_df, imdb_train_df, visfd_train_df], ignore_index=True)\n",
        "valid_df = pd.concat([vsfc_valid_df, tiki_valid_df, vsmec_valid_df, imdb_valid_df, visfd_valid_df], ignore_index=True)\n",
        "test_df = pd.concat([vsfc_test_df, tiki_test_df, vsmec_test_df, imdb_test_df, visfd_test_df], ignore_index=True)"
      ]
    },
    {
      "cell_type": "code",
      "execution_count": 48,
      "metadata": {
        "colab": {
          "base_uri": "https://localhost:8080/"
        },
        "id": "UnyDPFRgVOKu",
        "outputId": "215228ec-8392-4cfc-9dae-fd9eb1cccf8f"
      },
      "outputs": [
        {
          "name": "stdout",
          "output_type": "stream",
          "text": [
            "Train length: 147370\n",
            "Valid length: 18707\n",
            "Test length: 21410\n"
          ]
        }
      ],
      "source": [
        "print(f'Train length: {len(train_df)}')\n",
        "print(f'Valid length: {len(valid_df)}')\n",
        "print(f'Test length: {len(test_df)}')"
      ]
    },
    {
      "cell_type": "markdown",
      "metadata": {
        "id": "9PRWhw6OZjz3"
      },
      "source": [
        "## Clean data"
      ]
    },
    {
      "cell_type": "code",
      "execution_count": 51,
      "metadata": {
        "colab": {
          "base_uri": "https://localhost:8080/"
        },
        "id": "WGHeIgXjZmZo",
        "outputId": "719f19d7-e97a-487b-8170-381b32dcfc9d"
      },
      "outputs": [
        {
          "name": "stdout",
          "output_type": "stream",
          "text": [
            "Origin: hj <p>hôm<p> nay đi chơi vui vc :)) 😄\n",
            "Cleaned: hj hôm_nay đi chơi vui_vc <happy> <happy>\n",
            "--------------------------------------------------\n",
            "Origin: Tôi ko muốn đi học hôm nay :(( 😢\n",
            "Cleaned: tôi ko muốn đi học hôm_nay <sad> <sad>\n",
            "--------------------------------------------------\n",
            "Origin: Anh iu em lắm ❤️ 😍\n",
            "Cleaned: anh iu em lắm <love> <love>\n",
            "--------------------------------------------------\n",
            "Origin: Vc quá, sao mày làm thế 😡 🤬\n",
            "Cleaned: vc quá , sao mày làm thế <angry> <angry>\n",
            "--------------------------------------------------\n",
            "Origin: Wow 😮, thật là bất ngờ 🤔\n",
            "Cleaned: wow <surprise> , thật là bất_ngờ <thinking>\n",
            "--------------------------------------------------\n"
          ]
        }
      ],
      "source": [
        "def clean_text(text):\n",
        "    # from bs4 import BeautifulSoup\n",
        "    # import re\n",
        "    # from underthesea import word_tokenize\n",
        "    \n",
        "    text = text.lower()\n",
        "    text = BeautifulSoup(text, 'html.parser').get_text(separator=' ')\n",
        "    text = re.sub(r\"[‘’`]\", \"'\", text)\n",
        "    text = re.sub(r\"[“”]\", '\"', text)\n",
        "    text = re.sub(r\"[–—−]\", \"-\", text)\n",
        "    text = re.sub(r'(.)\\1+', r'\\1', text)\n",
        "    emoji_groups = {\n",
        "        \"<happy>\": [\"🙂\", \"😊\", \"😄\", \"😁\", \"😃\", \":)\", \":-)\", \":d\", \":-d\", \":p\", \":v\", \"=)\", \"colonsmile\", \"colonsmilesmile\", \":3\", \"coloncontemn\", \"colonbigsmile\", \"colonsmallsmile\", \"colonhihi\"],\n",
        "        \"<love>\":  [\"😍\", \"❤️\", \"💕\", \"💖\", \"<3\", \"colonlove\", \":\\\">\", \"colonlovelove\"],\n",
        "        \"<sad>\":   [\"😢\", \"😭\", \"☹️\", \"🙁\", \":(\", \":-(\", \"=(\", \"colonsad\", \":_\", \"coloncc\", \":'(\", \"colonsadcolon\",],\n",
        "        \"<angry>\": [\"😡\", \"🤬\", \"😠\"],\n",
        "        \"<surprise>\": [\"😲\", \"😮\", \"😯\", \"😳\", \"colonsurprise\", \":@\", \"colondoublesurprise\"],\n",
        "        \"<thinking>\": [\"🤔\"],\n",
        "        \"<neutral>\": [\"😐\", \"😑\", \"coloncolon\"]\n",
        "    }\n",
        "    for key, icons in emoji_groups.items():\n",
        "        for icon in icons:\n",
        "            text = text.replace(icon, f' {key} ')\n",
        "    text = text.replace('doubledot', ':')\n",
        "    text = text.replace('vdotv', '.')\n",
        "    text = text.replace('v.v', '.')\n",
        "    text = text.replace('dotdotdot', '.')\n",
        "    text = text.replace('fraction', '/')\n",
        "    text = re.sub(r\"[^a-zA-Z0-9À-ỹ\\s.,;:-<>/()!?'\\\"-]\", \" \", text)\n",
        "    for punc in '.,;:\\'\"()!-?/<>':\n",
        "        text = text.replace(punc, f' {punc} ')\n",
        "    text = word_tokenize(text, format='text')\n",
        "    text = re.sub(r\"<[_\\s]happy[_\\s]>\", \"<happy>\", text)\n",
        "    text = re.sub(r\"<[_\\s]love[_\\s]>\", \"<love>\", text)\n",
        "    text = re.sub(r\"<[_\\s]sad[_\\s]>\", \"<sad>\", text)\n",
        "    text = re.sub(r\"<[_\\s]angry[_\\s]>\", \"<angry>\", text)\n",
        "    text = re.sub(r\"<[_\\s]surprise[_\\s]>\", \"<surprise>\", text)\n",
        "    text = re.sub(r\"<[_\\s]thinking[_\\s]>\", \"<thinking>\", text)\n",
        "    text = re.sub(r\"<[_\\s]neutral[_\\s]>\", \"<neutral>\", text)\n",
        "    text = re.sub('\\s+', ' ', text).strip()\n",
        "    return text\n",
        "\n",
        "test_sentences = [\n",
        "    \"hj <p>hôm<p> nay đi chơi vui vc :)) 😄\",\n",
        "    \"Tôi ko muốn đi học hôm nay :(( 😢\",\n",
        "    \"Anh iu em lắm ❤️ 😍\",\n",
        "    \"Vc quá, sao mày làm thế 😡 🤬\",\n",
        "    \"Wow 😮, thật là bất ngờ 🤔\"\n",
        "]\n",
        "\n",
        "for sent in test_sentences:\n",
        "    print(f'Origin: {sent}')\n",
        "    print(f'Cleaned: {clean_text(sent)}')\n",
        "    print('-' * 50)"
      ]
    },
    {
      "cell_type": "code",
      "execution_count": 52,
      "metadata": {
        "id": "qQUWBtAZdhfR"
      },
      "outputs": [
        {
          "name": "stderr",
          "output_type": "stream",
          "text": [
            "100%|██████████| 147370/147370 [29:16<00:00, 83.90it/s] \n",
            "100%|██████████| 18707/18707 [03:33<00:00, 87.52it/s] \n",
            "100%|██████████| 21410/21410 [03:42<00:00, 96.32it/s] \n"
          ]
        }
      ],
      "source": [
        "tqdm.pandas()\n",
        "train_df['sent'] = train_df['sent'].progress_apply(clean_text)\n",
        "valid_df['sent'] = valid_df['sent'].progress_apply(clean_text)\n",
        "test_df['sent'] = test_df['sent'].progress_apply(clean_text)"
      ]
    },
    {
      "cell_type": "code",
      "execution_count": 53,
      "metadata": {},
      "outputs": [
        {
          "name": "stdout",
          "output_type": "stream",
          "text": [
            "Train\n",
            "sent         0\n",
            "sentiment    0\n",
            "dtype: int64\n",
            "--------------------------------------------------\n",
            "Valid\n",
            "sent         0\n",
            "sentiment    0\n",
            "dtype: int64\n",
            "--------------------------------------------------\n",
            "Test\n",
            "sent         0\n",
            "sentiment    0\n",
            "dtype: int64\n",
            "--------------------------------------------------\n"
          ]
        }
      ],
      "source": [
        "print('Train')\n",
        "print(train_df.isna().sum())\n",
        "print('-' * 50)\n",
        "print('Valid')\n",
        "print(valid_df.isna().sum())\n",
        "print('-' * 50)\n",
        "print('Test')\n",
        "print(test_df.isna().sum())\n",
        "print('-' * 50)"
      ]
    },
    {
      "cell_type": "code",
      "execution_count": null,
      "metadata": {},
      "outputs": [],
      "source": [
        "train_df = train_df.dropna(subset=['sent'])\n",
        "test_df = test_df.dropna(subset=['sent'])\n",
        "valid_df = valid_df.dropna(subset=['sent'])"
      ]
    },
    {
      "cell_type": "markdown",
      "metadata": {
        "id": "hcZtBhQ_kUCR"
      },
      "source": [
        "## EDA"
      ]
    },
    {
      "cell_type": "markdown",
      "metadata": {
        "id": "zrl8ffrukXHM"
      },
      "source": [
        "### Sentiment Label Distribution"
      ]
    },
    {
      "cell_type": "code",
      "execution_count": 54,
      "metadata": {
        "colab": {
          "base_uri": "https://localhost:8080/",
          "height": 214
        },
        "id": "v7bZvFwIk0Aa",
        "outputId": "a7630473-0fdf-4618-b847-795760b4d3d4"
      },
      "outputs": [
        {
          "data": {
            "image/png": "[encoded data removed]",
            "text/plain": [
              "<Figure size 1800x500 with 3 Axes>"
            ]
          },
          "metadata": {},
          "output_type": "display_data"
        }
      ],
      "source": [
        "fig, axes = plt.subplots(1, 3, figsize=(18, 5))\n",
        "\n",
        "order = sorted(train_df['sentiment'].unique())\n",
        "\n",
        "sns.countplot(x='sentiment', data=train_df, order=order, color='green', ax=axes[0])\n",
        "axes[0].set_title('Train')\n",
        "axes[0].set_xlabel('Sentiment')\n",
        "axes[0].set_ylabel('Count')\n",
        "\n",
        "sns.countplot(x='sentiment', data=valid_df, order=order, color='green', ax=axes[1])\n",
        "axes[1].set_title('Valid')\n",
        "axes[1].set_xlabel('Sentiment')\n",
        "axes[1].set_ylabel('Count')\n",
        "\n",
        "sns.countplot(x='sentiment', data=test_df, order=order, color='green', ax=axes[2])\n",
        "axes[2].set_title('Test')\n",
        "axes[2].set_xlabel('Sentiment')\n",
        "axes[2].set_ylabel('Count')\n",
        "\n",
        "plt.tight_layout()\n",
        "plt.show()"
      ]
    },
    {
      "cell_type": "markdown",
      "metadata": {
        "id": "8fLfP5x3lBSr"
      },
      "source": [
        "### Length Sentence Distribution"
      ]
    },
    {
      "cell_type": "code",
      "execution_count": 55,
      "metadata": {
        "id": "Er7jYKaGd-ya"
      },
      "outputs": [],
      "source": [
        "train_sent_lengths = train_df['sent'].apply(lambda x: len(x.split()))\n",
        "valid_sent_lengths = valid_df['sent'].apply(lambda x: len(x.split()))\n",
        "test_sent_lengths = test_df['sent'].apply(lambda x: len(x.split()))"
      ]
    },
    {
      "cell_type": "code",
      "execution_count": 56,
      "metadata": {
        "colab": {
          "base_uri": "https://localhost:8080/",
          "height": 213
        },
        "id": "WsBdjkyyeXCD",
        "outputId": "57e6ef81-ab18-4996-9047-09db17f5a762"
      },
      "outputs": [
        {
          "data": {
            "image/png": "[encoded data removed]",
            "text/plain": [
              "<Figure size 1800x500 with 3 Axes>"
            ]
          },
          "metadata": {},
          "output_type": "display_data"
        }
      ],
      "source": [
        "fig, axes = plt.subplots(1, 3, figsize=(18, 5))\n",
        "\n",
        "axes[0].hist(train_sent_lengths, bins=50, color='green')\n",
        "axes[0].set_title('Train')\n",
        "axes[0].set_xlabel('Lengths')\n",
        "axes[0].set_ylabel('Frequency')\n",
        "\n",
        "axes[1].hist(valid_sent_lengths, bins=50, color='green')\n",
        "axes[1].set_title('Valid')\n",
        "axes[1].set_xlabel('Lengths')\n",
        "axes[1].set_ylabel('Frequency')\n",
        "\n",
        "axes[2].hist(test_sent_lengths, bins=50, color='green')\n",
        "axes[2].set_title('Test')\n",
        "axes[2].set_xlabel('Lengths')\n",
        "axes[2].set_ylabel('Frequency')\n",
        "\n",
        "plt.tight_layout()\n",
        "plt.show()"
      ]
    },
    {
      "cell_type": "markdown",
      "metadata": {
        "id": "uEpYH-CMAYDL"
      },
      "source": [
        "## Data Augmentation"
      ]
    },
    {
      "cell_type": "markdown",
      "metadata": {
        "id": "qBa898twZ_zK"
      },
      "source": [
        "### Back Translation"
      ]
    },
    {
      "cell_type": "code",
      "execution_count": 2,
      "metadata": {
        "colab": {
          "base_uri": "https://localhost:8080/"
        },
        "id": "n3BckPl9dT1u",
        "outputId": "800f6ef8-f424-4836-9303-e7a51984700d"
      },
      "outputs": [
        {
          "name": "stdout",
          "output_type": "stream",
          "text": [
            "https://clients5.google.com/translate_a/t?client=dict-chrome-ex&sl=vi&tl=en&dt=t&q=kh%C3%B3\n",
            "91\n"
          ]
        }
      ],
      "source": [
        "def make_link(text, src_code, dst_code):\n",
        "    text_encoded = urllib.parse.quote(text)\n",
        "    url = f\"https://clients5.google.com/translate_a/t?client=dict-chrome-ex&sl={src_code}&tl={dst_code}&dt=t&q={text_encoded}\"\n",
        "    return url\n",
        "link = make_link('khó', 'vi', 'en')\n",
        "print(link)\n",
        "print(len(link))"
      ]
    },
    {
      "cell_type": "code",
      "execution_count": 58,
      "metadata": {
        "colab": {
          "base_uri": "https://localhost:8080/"
        },
        "id": "82sZvl7UqDRn",
        "outputId": "6c4137d7-ff32-446e-bf48-b32088027247"
      },
      "outputs": [
        {
          "name": "stdout",
          "output_type": "stream",
          "text": [
            "['difficult']\n"
          ]
        }
      ],
      "source": [
        "res = requests.get('https://clients5.google.com/translate_a/t?client=dict-chrome-ex&sl=vi&tl=en&dt=t&q=kh%C3%B3')\n",
        "print(res.json())"
      ]
    },
    {
      "cell_type": "code",
      "execution_count": 3,
      "metadata": {
        "id": "Z1I6w2YkAX0e"
      },
      "outputs": [],
      "source": [
        "def extract_json(json):\n",
        "    if not isinstance(json, list):\n",
        "        return None\n",
        "    item = json[0]\n",
        "    if isinstance(item, str):\n",
        "        return item\n",
        "    if not isinstance(item, list):\n",
        "        return None\n",
        "    text = item[0]\n",
        "    if not isinstance(text, str):\n",
        "        return None\n",
        "    return text\n",
        "\n",
        "def fix_input(sent):\n",
        "    sent = sent.replace('_', ' ') \\\n",
        "        .replace('<happy>', '<_h_>') \\\n",
        "        .replace('<love>', '<_l_>') \\\n",
        "        .replace('<sad>', '<_s_>')  \\\n",
        "        .replace('<angry>', '<_a_>')  \\\n",
        "        .replace('<surprise>', '<_sp_>')  \\\n",
        "        .replace('<thinking>', '<_t_>') \\\n",
        "        .replace('<neutral>', '<_n_>')\n",
        "    return sent\n",
        "\n",
        "def fix_output(aug_sent):\n",
        "    aug_sent = aug_sent.lower()\n",
        "    aug_sent = aug_sent.replace('<_h_>', '<happy>') \\\n",
        "        .replace('<_l_>', '<love>') \\\n",
        "        .replace('<_s_>', '<sad>')  \\\n",
        "        .replace('<_a_>', '<angry>')  \\\n",
        "        .replace('<_sp_>', '<surprise>')  \\\n",
        "        .replace('<_t_>', '<thinking>') \\\n",
        "        .replace('<_n_>', '<neutral>')\n",
        "    for punc in '.,;:\\'\"()!-?/<>':\n",
        "        aug_sent = aug_sent.replace(punc, f' {punc} ')\n",
        "    aug_sent = aug_sent.replace('\\n', ' 0999999999 ')\n",
        "    aug_sent = word_tokenize(aug_sent, format='text')\n",
        "    aug_sent = aug_sent.replace(' 0999999999 ', '\\n')\n",
        "    aug_sent = re.sub(r\"<[_\\s]happy[_\\s]>\", \"<happy>\", aug_sent)\n",
        "    aug_sent = re.sub(r\"<[_\\s]love[_\\s]>\", \"<love>\", aug_sent)\n",
        "    aug_sent = re.sub(r\"<[_\\s]sad[_\\s]>\", \"<sad>\", aug_sent)\n",
        "    aug_sent = re.sub(r\"<[_\\s]angry[_\\s]>\", \"<angry>\", aug_sent)\n",
        "    aug_sent = re.sub(r\"<[_\\s]surprise[_\\s]>\", \"<surprise>\", aug_sent)\n",
        "    aug_sent = re.sub(r\"<[_\\s]thinking[_\\s]>\", \"<thinking>\", aug_sent)\n",
        "    aug_sent = re.sub(r\"<[_\\s]neutral[_\\s]>\", \"<neutral>\", aug_sent)\n",
        "    aug_sent = re.sub(r'[ \\t]+', ' ', aug_sent)\n",
        "    return aug_sent\n",
        "\n",
        "def translate(text, src, dst):\n",
        "    try:\n",
        "        api = make_link(text, src, dst)\n",
        "        res = requests.get(api, timeout=5)\n",
        "        json = res.json()\n",
        "        new_text = extract_json(json)\n",
        "        return new_text\n",
        "    except Exception as e:\n",
        "        print(e)\n",
        "        return None"
      ]
    },
    {
      "cell_type": "code",
      "execution_count": 4,
      "metadata": {
        "colab": {
          "base_uri": "https://localhost:8080/",
          "height": 35
        },
        "id": "M7oCTZ9rrY2t",
        "outputId": "76f8956c-cbe5-4a0b-e2a0-bc4b3c55e3a3"
      },
      "outputs": [],
      "source": [
        "def back_translate(sents, max_new_sent):\n",
        "    codes = [\n",
        "        \"af\",\"sq\",\"am\",\"ar\",\"hy\",\"az\",\"eu\",\"be\",\"bn\",\"bs\",\"bg\",\"ca\",\"ceb\",\"ny\",\n",
        "        \"zh-CN\",\"zh-TW\",\"co\",\"hr\",\"cs\",\"da\",\"nl\",\"en\",\"eo\",\"et\",\"tl\",\"fi\",\"fr\",\n",
        "        \"fy\",\"gl\",\"ka\",\"de\",\"el\",\"gu\",\"ht\",\"ha\",\"haw\",\"iw\",\"hi\",\"hmn\",\"hu\",\"is\",\n",
        "        \"ig\",\"id\",\"ga\",\"it\",\"ja\",\"jw\",\"kn\",\"kk\",\"km\",\"ko\",\"ku\",\"ky\",\"lo\",\"la\",\"lv\",\n",
        "        \"lt\",\"lb\",\"mk\",\"mg\",\"ms\",\"ml\",\"mt\",\"mi\",\"mr\",\"mn\",\"my\",\"ne\",\"no\",\"ps\",\"fa\",\n",
        "        \"pl\",\"pt\",\"pa\",\"ro\",\"ru\",\"sm\",\"gd\",\"sr\",\"st\",\"sn\",\"sd\",\"si\",\"sk\",\"sl\",\"so\",\n",
        "        \"es\",\"su\",\"sw\",\"sv\",\"tg\",\"ta\",\"te\",\"th\",\"tr\",\"uk\",\"ur\",\"uz\",\"vi\",\"cy\",\"xh\",\n",
        "        \"yi\",\"yo\",\"zu\"\n",
        "    ]\n",
        "    outputs = [set([sent]) for sent in sents]\n",
        "    max_new_sent += 1\n",
        "    num_completed = 0\n",
        "    max_length = 3500\n",
        "    for code_id, code in enumerate(codes):\n",
        "        max_length_input_api = max_length\n",
        "        clear_output(wait=True)\n",
        "        print(f'Code: {code_id + 1} / {len(codes)}')\n",
        "        print(f'Progress: {num_completed} / {len(sents)}')\n",
        "        id = 0\n",
        "        while id < len(sents):\n",
        "            # print('\\r1', end='')\n",
        "            if len(outputs[id]) < max_new_sent:\n",
        "              break\n",
        "            id += 1\n",
        "        if id >= len(sents):\n",
        "            return outputs\n",
        "        cur_sent_ids = [id]\n",
        "        total_length = len(sents[id])\n",
        "        id += 1\n",
        "        while id < len(sents): \n",
        "            # print('\\r2', end='')\n",
        "            if len(outputs[id]) >= max_new_sent:\n",
        "                id += 1\n",
        "                continue\n",
        "            if len(sents[id]) + total_length <= max_length_input_api:\n",
        "                total_length += len(sents[id])\n",
        "                cur_sent_ids.append(id)\n",
        "                id += 1\n",
        "            else:\n",
        "                break\n",
        "        while cur_sent_ids:\n",
        "            print(f'\\r{\"=\" * 50}', end='')\n",
        "            print(f'\\r{cur_sent_ids}', end='')\n",
        "            # print('\\r3', end='')\n",
        "            combined_sent = '\\n'.join([sents[sent_id] for sent_id in cur_sent_ids])\n",
        "\n",
        "            translated_text = translate(combined_sent, 'vi', code)\n",
        "            if not translated_text:\n",
        "                last_id = cur_sent_ids[-1]\n",
        "                total_length -= len(sents[last_id])\n",
        "                max_length_input_api = max(max_length_input_api - 100, total_length)\n",
        "                if max_length_input_api < 300:\n",
        "                    max_length_input_api = 300\n",
        "                del cur_sent_ids[-1]\n",
        "                if last_id == id - 1:\n",
        "                    id = last_id\n",
        "                if not cur_sent_ids:\n",
        "                    if last_id == id:\n",
        "                        id += 1\n",
        "                    while id < len(sents):\n",
        "                        # print('\\r4', end='')\n",
        "                        if len(outputs[id]) < max_new_sent:\n",
        "                            break\n",
        "                        id += 1\n",
        "                    if id >= len(sents):\n",
        "                        continue\n",
        "                    cur_sent_ids = [id]\n",
        "                    total_length = len(sents[id])\n",
        "                    id += 1\n",
        "                    while id < len(sents):\n",
        "                        # print('\\r5', end='')\n",
        "                        if len(outputs[id]) >= max_new_sent:\n",
        "                            id += 1\n",
        "                            continue\n",
        "                        if len(sents[id]) + total_length <= max_length_input_api:\n",
        "                            total_length += len(sents[id])\n",
        "                            cur_sent_ids.append(id)\n",
        "                            id += 1\n",
        "                        else:\n",
        "                            break\n",
        "                continue\n",
        "\n",
        "            combined_aug_sent = translate(translated_text, code, 'vi')\n",
        "            if not combined_aug_sent:\n",
        "                last_id = cur_sent_ids[-1]\n",
        "                total_length -= len(sents[last_id])\n",
        "                max_length_input_api = max(max_length_input_api - 100, total_length)\n",
        "                if max_length_input_api < 300:\n",
        "                    max_length_input_api = 300\n",
        "                del cur_sent_ids[-1]\n",
        "                if last_id == id - 1:\n",
        "                    id = last_id\n",
        "                if not cur_sent_ids:\n",
        "                    if last_id == id:\n",
        "                        id += 1\n",
        "                    while id < len(sents):\n",
        "                        # print('\\r6', end='')\n",
        "                        if len(outputs[id]) < max_new_sent:\n",
        "                            break\n",
        "                        id += 1\n",
        "                    if id >= len(sents):\n",
        "                        continue\n",
        "                    cur_sent_ids = [id]\n",
        "                    total_length = len(sents[id])\n",
        "                    id += 1\n",
        "                    while id < len(sents):\n",
        "                        # print('\\r7', end='')\n",
        "                        if len(outputs[id]) >= max_new_sent:\n",
        "                            id += 1\n",
        "                            continue\n",
        "                        if len(sents[id]) + total_length <= max_length_input_api:\n",
        "                            total_length += len(sents[id])\n",
        "                            cur_sent_ids.append(id)\n",
        "                            id += 1\n",
        "                        else:\n",
        "                            break\n",
        "                continue\n",
        "\n",
        "            combined_aug_sent = fix_output(combined_aug_sent)\n",
        "            aug_sents = combined_aug_sent.split('\\n')\n",
        "            aug_sents = [aug_sent.strip() for aug_sent in aug_sents]\n",
        "\n",
        "            if len(cur_sent_ids) != len(aug_sents):\n",
        "                print(aug_sents)\n",
        "                while id < len(sents):\n",
        "                    # print('\\r8', end='')\n",
        "                    if len(outputs[id]) >= max_new_sent:\n",
        "                        id += 1\n",
        "                    else:\n",
        "                        break\n",
        "                if id >= len(sents):\n",
        "                    cur_sent_ids = []\n",
        "                    continue\n",
        "                cur_sent_ids = [id]\n",
        "                total_length = len(sents[id])\n",
        "                id += 1\n",
        "                while id < len(sents):\n",
        "                    # print('\\r9', end='')\n",
        "                    if len(outputs[id]) >= max_new_sent:\n",
        "                        id += 1\n",
        "                        continue\n",
        "                    if len(sents[id]) + total_length <= max_length_input_api:\n",
        "                        total_length += len(sents[id])\n",
        "                        cur_sent_ids.append(id)\n",
        "                        id += 1\n",
        "                    else:\n",
        "                        break\n",
        "                continue\n",
        "            \n",
        "            for i, aug_sent in enumerate(aug_sents):\n",
        "                sent_id = cur_sent_ids[i]\n",
        "                outputs[sent_id].add(aug_sent)\n",
        "                if len(outputs[sent_id]) >= max_new_sent:\n",
        "                    num_completed += 1\n",
        "                    clear_output(wait=True)\n",
        "                    print(f'Code: {code_id + 1} / {len(codes)}')\n",
        "                    print(f'Progress: {num_completed} / {len(sents)}')\n",
        "            \n",
        "            while id < len(sents):\n",
        "                # print('\\r10', end='')\n",
        "                if len(outputs[id]) < max_new_sent:\n",
        "                    break\n",
        "                id += 1\n",
        "                \n",
        "            if id >= len(sents):\n",
        "                cur_sent_ids = []\n",
        "                continue\n",
        "            cur_sent_ids = [id]\n",
        "            total_length = len(sents[id])\n",
        "            id += 1\n",
        "            while id < len(sents):\n",
        "                # print('\\r11', end='')\n",
        "                if len(outputs[i]) >= max_new_sent:\n",
        "                    id += 1\n",
        "                    continue\n",
        "                if len(sents[id]) + total_length <= max_length_input_api:\n",
        "                    total_length += len(sents[id])\n",
        "                    cur_sent_ids.append(id)\n",
        "                    id += 1\n",
        "                else:\n",
        "                    break\n",
        "    \n",
        "    return outputs\n"
      ]
    },
    {
      "cell_type": "code",
      "execution_count": 5,
      "metadata": {
        "id": "155aDpZP_W8L"
      },
      "outputs": [],
      "source": [
        "def aug_back_translate(df, label, max_new_sent, percent_aug):\n",
        "    sents = df.loc[df['sentiment'] == label, 'sent']\n",
        "    sents = sents.sample(frac=percent_aug, random_state=42).tolist()\n",
        "    sents = [fix_input(sent) for sent in sents]\n",
        "    sets = back_translate(sents, max_new_sent)\n",
        "    aug_sents = []\n",
        "    for i, s in enumerate(sets):\n",
        "        s.remove(sents[i])\n",
        "        aug_sents.extend(s)\n",
        "    new_df = pd.DataFrame({\n",
        "        'sent': pd.Series(aug_sents, dtype=str),\n",
        "        'sentiment': pd.Series(['AUG_' + label] * len(aug_sents), dtype=str)\n",
        "    })\n",
        "    return pd.concat([df, new_df], ignore_index=True)"
      ]
    },
    {
      "cell_type": "code",
      "execution_count": 64,
      "metadata": {},
      "outputs": [
        {
          "name": "stdout",
          "output_type": "stream",
          "text": [
            "Code: 104 / 104\n",
            "Progress: 1704 / 6579\n"
          ]
        }
      ],
      "source": [
        "train_df = aug_back_translate(train_df, 'NEU', 7, 1)"
      ]
    },
    {
      "cell_type": "code",
      "execution_count": 7,
      "metadata": {
        "colab": {
          "base_uri": "https://localhost:8080/",
          "height": 426
        },
        "id": "M2lqczaZsi_r",
        "outputId": "a7137104-35f5-45d3-eef4-ea9f81220b59"
      },
      "outputs": [
        {
          "name": "stdout",
          "output_type": "stream",
          "text": [
            "Code: 104 / 104\n",
            "Progress: 526 / 14498\n",
            "[527]Expecting value: line 1 column 1 (char 0)====\n"
          ]
        }
      ],
      "source": [
        "train_df = aug_back_translate(train_df, 'NEG', 2, 0.4)"
      ]
    },
    {
      "cell_type": "code",
      "execution_count": 8,
      "metadata": {
        "id": "pwsCXVGNJ1fZ"
      },
      "outputs": [
        {
          "data": {
            "text/plain": [
              "Text(0, 0.5, 'Count')"
            ]
          },
          "execution_count": 8,
          "metadata": {},
          "output_type": "execute_result"
        },
        {
          "data": {
            "image/png": "[encoded data removed]",
            "text/plain": [
              "<Figure size 640x480 with 1 Axes>"
            ]
          },
          "metadata": {},
          "output_type": "display_data"
        }
      ],
      "source": [
        "ax = sns.countplot(x='sentiment', data=train_df, color='green')\n",
        "ax.set_title('Train')\n",
        "ax.set_xlabel('Sentiment')\n",
        "ax.set_ylabel('Count')"
      ]
    },
    {
      "cell_type": "markdown",
      "metadata": {
        "id": "Nan4aop8L98H"
      },
      "source": [
        "### Oversampling"
      ]
    },
    {
      "cell_type": "code",
      "execution_count": 10,
      "metadata": {
        "id": "cEFFLuhaJ09M"
      },
      "outputs": [],
      "source": [
        "neu_df = train_df[train_df['sentiment'] == 'NEU']\n",
        "neu_oversampled = neu_df.sample(len(neu_df) * 2, replace=True, random_state=42)"
      ]
    },
    {
      "cell_type": "code",
      "execution_count": 11,
      "metadata": {
        "id": "ZVkpnQPyN-zA"
      },
      "outputs": [],
      "source": [
        "neg_df = train_df[train_df['sentiment'] == 'NEG']\n",
        "neg_oversampled = neg_df.sample(len(neg_df) // 2, replace=True, random_state=42)"
      ]
    },
    {
      "cell_type": "code",
      "execution_count": 12,
      "metadata": {
        "id": "gyndVWeMOQfc"
      },
      "outputs": [],
      "source": [
        "train_df = pd.concat([train_df, neu_oversampled, neg_oversampled], ignore_index=True)\n",
        "train_df.loc[train_df['sentiment'] == 'AUG_NEU', 'sentiment'] = 'NEU'\n",
        "train_df.loc[train_df['sentiment'] == 'AUG_NEG', 'sentiment'] = 'NEG'"
      ]
    },
    {
      "cell_type": "markdown",
      "metadata": {
        "id": "OL26Nyz5OrfM"
      },
      "source": [
        "### New Distribution"
      ]
    },
    {
      "cell_type": "code",
      "execution_count": 13,
      "metadata": {
        "id": "HoG46m5KOpES"
      },
      "outputs": [
        {
          "data": {
            "text/plain": [
              "Text(0, 0.5, 'Count')"
            ]
          },
          "execution_count": 13,
          "metadata": {},
          "output_type": "execute_result"
        },
        {
          "data": {
            "image/png": "[encoded data removed]",
            "text/plain": [
              "<Figure size 640x480 with 1 Axes>"
            ]
          },
          "metadata": {},
          "output_type": "display_data"
        }
      ],
      "source": [
        "ax = sns.countplot(x='sentiment', data=train_df, color='green')\n",
        "ax.set_title('New Train')\n",
        "ax.set_xlabel('Sentiment')\n",
        "ax.set_ylabel('Count')"
      ]
    },
    {
      "cell_type": "code",
      "execution_count": null,
      "metadata": {
        "id": "We9NUOIEPBpO"
      },
      "outputs": [],
      "source": [
        "train_df.to_csv('../data/processed/train.csv', index=False)\n",
        "valid_df.to_csv('../data/processed/valid.csv', index=False)\n",
        "test_df.to_csv('../data/processed/test.csv', index=False)"
      ]
    }
  ],
  "metadata": {
    "colab": {
      "provenance": []
    },
    "kernelspec": {
      "display_name": "venv",
      "language": "python",
      "name": "python3"
    },
    "language_info": {
      "codemirror_mode": {
        "name": "ipython",
        "version": 3
      },
      "file_extension": ".py",
      "mimetype": "text/x-python",
      "name": "python",
      "nbconvert_exporter": "python",
      "pygments_lexer": "ipython3",
      "version": "3.11.9"
    }
  },
  "nbformat": 4,
  "nbformat_minor": 0
}
